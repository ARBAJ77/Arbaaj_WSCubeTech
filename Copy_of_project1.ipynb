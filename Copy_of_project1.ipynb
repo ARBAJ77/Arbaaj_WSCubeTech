{
  "nbformat": 4,
  "nbformat_minor": 0,
  "metadata": {
    "colab": {
      "provenance": [],
      "authorship_tag": "ABX9TyN7mBRCv7at87xtYcKd5CGV",
      "include_colab_link": true
    },
    "kernelspec": {
      "name": "python3",
      "display_name": "Python 3"
    },
    "language_info": {
      "name": "python"
    }
  },
  "cells": [
    {
      "cell_type": "markdown",
      "metadata": {
        "id": "view-in-github",
        "colab_type": "text"
      },
      "source": [
        "<a href=\"https://colab.research.google.com/github/ARBAJ77/Arbaaj_WSCubeTech/blob/main/Copy_of_project1.ipynb\" target=\"_parent\"><img src=\"https://colab.research.google.com/assets/colab-badge.svg\" alt=\"Open In Colab\"/></a>"
      ]
    },
    {
      "cell_type": "code",
      "execution_count": null,
      "metadata": {
        "id": "k8H5JPR6HKHV"
      },
      "outputs": [],
      "source": [
        "#Theatre ticket booking system\n",
        "\n",
        "# number of seats limited\n",
        "# normal / recliner\n",
        "# set prices accourdingly\n",
        "# add combos \n",
        "# bill\n",
        "# next person\n",
        "\n",
        "Tseat = 500\n",
        "normal =200\n",
        "recliner= 300\n",
        "nprice = 1300\n",
        "rprice = 2000\n",
        "cprice= 500 \n",
        "\n",
        "# List films that we have at the cinema\n",
        "films = {  \"KGF3\", \"HARRY POTTER\" ,\"BLACK PANTHER\" }\n",
        "\n",
        "# Welcome customer to the cinema\n",
        "print(\"Hello, welcome to our cinema. Today we have the following films on show:\")\n",
        "while True:\n",
        "     name = input(\"enter your name: \").upper()\n",
        "     total = 0\n",
        "\n",
        "     while True:\n",
        "        choice = input(\"\"\"What films would you like to watch today?: \n",
        "        kgf3 ,\n",
        "        harry potter,\n",
        "        black panther\"\"\").upper()\n",
        "        if choice in films:\n",
        "            print(\"That's a great choice: \")\n",
        "            print('Available seats price :- Normal seat  : ',nprice, ', Recliner seat price : ',rprice)\n",
        "            seat_type =input(\"enter the type of seat you want to buy : normal or recliner\")\n",
        "            seats = int(input(\"enter the number of seats you want to buy:  \"))\n",
        "            if seats>=1 and seats<=500 :\n",
        "               if seat_type == \"normal\" :\n",
        "                  total += nprice*seats  \n",
        "                  combo = input(\"do you want to add a combo of rs 500?  yes or no \")\n",
        "                  if combo in [\"Yes\",\"yes\",\"YES\"]:\n",
        "                     quantity = float(input(\"enter combo quantity :\"))\n",
        "                     comboprice =cprice*quantity\n",
        "                     total +=comboprice\n",
        "                     print(\"Total amount is\",total)\n",
        "                     break\n",
        "                  else:\n",
        "                    break   \n",
        "               elif seat_type == \"recliner\" :\n",
        "                    total += rprice*seats\n",
        "                    combo = input(\"do you want to add a combo of rs 500? Yes or No \")\n",
        "                    if combo in [\"Yes\",\"yes\",\"YES\"]:\n",
        "                       quantity = float(input(\"enter combo quantity :\"))\n",
        "                       comboprice =cprice*quantity\n",
        "                       total +=comboprice\n",
        "                       print(\"Total amount is\",total)\n",
        "                       break\n",
        "                    else:\n",
        "                      break    \n",
        "            else: \n",
        "                print(\" please enter valid seat number 1 to 500 ? \")          \n",
        "\n",
        "        else:\n",
        "            print(\"sorry sir currently this movie no available\")\n",
        "            repeat = input(\"do you want to repeat again? \")\n",
        "            if repeat == \"no\":\n",
        "             break  \n",
        "     print(\"~\"*50)\n",
        "     print(\"customer's name :\", name)\n",
        "     print(\"total amount:\", total)\n",
        "     (\"~\"*50)\n",
        "     next_person = input(\"next person ? \")\n",
        "     if next_person == \"no\":\n",
        "       break\n",
        "print(\"thank you for booking !!!\")\n",
        "                             \n",
        "   "
      ]
    }
  ]
}