{
  "nbformat": 4,
  "nbformat_minor": 0,
  "metadata": {
    "colab": {
      "provenance": [],
      "authorship_tag": "ABX9TyNt76PGk63Zd+cfz4tIYCgA",
      "include_colab_link": true
    },
    "kernelspec": {
      "name": "python3",
      "display_name": "Python 3"
    },
    "language_info": {
      "name": "python"
    }
  },
  "cells": [
    {
      "cell_type": "markdown",
      "metadata": {
        "id": "view-in-github",
        "colab_type": "text"
      },
      "source": [
        "<a href=\"https://colab.research.google.com/github/ARBAJ77/Arbaaj_WSCubeTech/blob/main/Project_3.ipynb\" target=\"_parent\"><img src=\"https://colab.research.google.com/assets/colab-badge.svg\" alt=\"Open In Colab\"/></a>"
      ]
    },
    {
      "cell_type": "code",
      "execution_count": null,
      "metadata": {
        "id": "Tf92BKf8QtmG"
      },
      "outputs": [],
      "source": [
        "import random\n",
        "\n",
        "print(\"Welcome to the Dice Game!\")\n",
        "\n",
        "while True:\n",
        "    # Set the target number\n",
        "    target = random.randint(2, 12)\n",
        "    print(f\"The target number is {target}.\")\n",
        "    \n",
        "    # Get the player's guess\n",
        "    guess = input(\"Will the sum of the dice be higher or lower than the target number? [higher/lower]: \")\n",
        "    \n",
        "    # Roll the dice\n",
        "    dice1 = random.randint(1, 6)\n",
        "    dice2 = random.randint(1, 6)\n",
        "    total = dice1 + dice2\n",
        "    print(\"You rolled\", dice1, \"and\", dice2, \". The total is\", total)\n",
        "    \n",
        "    # Compare the total with the target number and determine the outcome\n",
        "    if total == target:\n",
        "        print(\"It's a tie!\")\n",
        "    elif (total > target and guess == 'higher') or (total < target and guess == 'lower'):\n",
        "        print(\"Congratulations! You win!\")\n",
        "    else:\n",
        "        print(\"Sorry, you lose!\")\n",
        "    \n",
        "    play_again = input(\"Do you want to play again? [yes/no]: \")\n",
        "    if play_again != 'yes':\n",
        "        break\n",
        "\n",
        "print(\"Thank you for playing!\")"
      ]
    },
    {
      "cell_type": "code",
      "source": [],
      "metadata": {
        "id": "rr-iqayAVS5Z"
      },
      "execution_count": null,
      "outputs": []
    }
  ]
}